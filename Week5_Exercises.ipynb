{
  "nbformat": 4,
  "nbformat_minor": 0,
  "metadata": {
    "kernelspec": {
      "display_name": "Python 3",
      "language": "python",
      "name": "python3"
    },
    "language_info": {
      "codemirror_mode": {
        "name": "ipython",
        "version": 3
      },
      "file_extension": ".py",
      "mimetype": "text/x-python",
      "name": "python",
      "nbconvert_exporter": "python",
      "pygments_lexer": "ipython3",
      "version": "3.7.3"
    },
    "colab": {
      "name": "Week 5 exercises.ipynb",
      "provenance": [],
      "collapsed_sections": [],
      "toc_visible": true
    }
  },
  "cells": [
    {
      "cell_type": "markdown",
      "metadata": {
        "id": "yRTSsjSbTN7C"
      },
      "source": [
        "# TASKS"
      ]
    },
    {
      "cell_type": "markdown",
      "metadata": {
        "id": "IlGWOvYlTN7J"
      },
      "source": [
        "PCA and MNIST\n",
        "\n",
        "1. Train a neural network on the MNIST training dataset that achieves acceptable performance on the test dataset (>95% accuracy)\n",
        "\n",
        "\n",
        "2. Decompose the MNIST training dataset into its PCA components\n",
        " \n",
        " \n",
        "3. Use the N-best PCA components to make a new testing dataset (using the 10,000 MNIST test images) and make a plot of N vs testing accuracy using the neural network trained in 1) *WITOUT RETRAINING THE NETWORK*\n",
        " \n",
        " \n",
        "4. Now using the 100-best PCA components make a new training dataset (using the 60,000 MNIST training images) and retrain your neural network from 1)\n",
        " \n",
        " \n",
        "5. Repeat step 3 using your new neural network from 4)\n",
        " \n",
        " \n",
        "6. Finally repeat steps 4 and 5 using a network trained with the best 20 components"
      ]
    },
    {
      "cell_type": "markdown",
      "metadata": {
        "id": "TmlJyxYBTTxL"
      },
      "source": [
        "# Preamble"
      ]
    },
    {
      "cell_type": "code",
      "metadata": {
        "id": "Cj7CEx5aTN7L",
        "outputId": "dea467eb-89be-49c6-9254-cad181d5e720",
        "colab": {
          "base_uri": "https://localhost:8080/"
        }
      },
      "source": [
        "import matplotlib.pyplot as plt\n",
        "import numpy as np\n",
        "import math\n",
        "\n",
        "# TensorFlow and tf.keras\n",
        "import tensorflow as tf\n",
        "from tensorflow import keras\n",
        "\n",
        "import matplotlib.style #Some style nonsense\n",
        "import matplotlib as mpl #Some more style nonsense\n",
        "\n",
        "from scipy import linalg\n",
        "\n",
        "mpl.rcParams[\"legend.frameon\"] = False\n",
        "mpl.rcParams['figure.dpi']=200\n",
        "\n",
        "#Useful for debugging problems\n",
        "print(tf.__version__)"
      ],
      "execution_count": 1,
      "outputs": [
        {
          "output_type": "stream",
          "text": [
            "2.3.0\n"
          ],
          "name": "stdout"
        }
      ]
    },
    {
      "cell_type": "markdown",
      "metadata": {
        "id": "H5-p_9I9Tbp0"
      },
      "source": [
        "# Task 1 - training NN on MNIST"
      ]
    },
    {
      "cell_type": "code",
      "metadata": {
        "id": "EB77m54kTebS"
      },
      "source": [
        "# Loading MNIST data:\n",
        "mnist = keras.datasets.mnist\n",
        "(train_images, train_labels), (test_images, test_labels) = mnist.load_data()\n",
        "\n",
        "# Normalising pixel values:\n",
        "train_images=train_images/255.0\n",
        "test_images=test_images/255.0"
      ],
      "execution_count": 2,
      "outputs": []
    },
    {
      "cell_type": "code",
      "metadata": {
        "id": "tUVxQ92aUXXo"
      },
      "source": [
        "# Setting up the network:\n",
        "model = keras.Sequential([\n",
        "    keras.layers.Flatten(input_shape=(28,28)),\n",
        "    keras.layers.Dense(128,activation='relu'), # 128 neurons in first dense layer\n",
        "    keras.layers.Dense(10) # 10 neurons in dense output layer\n",
        "])\n",
        "\n",
        "# Compiling the model:\n",
        "model.compile(loss=tf.keras.losses.SparseCategoricalCrossentropy(from_logits=True), optimizer=tf.keras.optimizers.SGD(lr=1.0),\n",
        "              metrics=['accuracy'])"
      ],
      "execution_count": 3,
      "outputs": []
    },
    {
      "cell_type": "code",
      "metadata": {
        "id": "CluciAg6VLcO",
        "outputId": "075665f6-673e-44fb-c7e8-363ff78762a2",
        "colab": {
          "base_uri": "https://localhost:8080/"
        }
      },
      "source": [
        "# Training the model:\n",
        "history=model.fit(train_images, train_labels,batch_size=100, epochs=30)"
      ],
      "execution_count": 4,
      "outputs": [
        {
          "output_type": "stream",
          "text": [
            "Epoch 1/30\n",
            "600/600 [==============================] - 2s 3ms/step - loss: 0.3299 - accuracy: 0.9016\n",
            "Epoch 2/30\n",
            "600/600 [==============================] - 2s 3ms/step - loss: 0.1252 - accuracy: 0.9614\n",
            "Epoch 3/30\n",
            "600/600 [==============================] - 2s 3ms/step - loss: 0.0947 - accuracy: 0.9714\n",
            "Epoch 4/30\n",
            "600/600 [==============================] - 2s 3ms/step - loss: 0.0758 - accuracy: 0.9765\n",
            "Epoch 5/30\n",
            "600/600 [==============================] - 2s 3ms/step - loss: 0.0646 - accuracy: 0.9797\n",
            "Epoch 6/30\n",
            "600/600 [==============================] - 2s 3ms/step - loss: 0.0533 - accuracy: 0.9832\n",
            "Epoch 7/30\n",
            "600/600 [==============================] - 2s 3ms/step - loss: 0.0475 - accuracy: 0.9844\n",
            "Epoch 8/30\n",
            "600/600 [==============================] - 2s 3ms/step - loss: 0.0398 - accuracy: 0.9867\n",
            "Epoch 9/30\n",
            "600/600 [==============================] - 1s 2ms/step - loss: 0.0362 - accuracy: 0.9881\n",
            "Epoch 10/30\n",
            "600/600 [==============================] - 1s 2ms/step - loss: 0.0294 - accuracy: 0.9902\n",
            "Epoch 11/30\n",
            "600/600 [==============================] - 1s 2ms/step - loss: 0.0261 - accuracy: 0.9914\n",
            "Epoch 12/30\n",
            "600/600 [==============================] - 1s 2ms/step - loss: 0.0219 - accuracy: 0.9927\n",
            "Epoch 13/30\n",
            "600/600 [==============================] - 1s 2ms/step - loss: 0.0195 - accuracy: 0.9936\n",
            "Epoch 14/30\n",
            "600/600 [==============================] - 1s 2ms/step - loss: 0.0162 - accuracy: 0.9947\n",
            "Epoch 15/30\n",
            "600/600 [==============================] - 1s 2ms/step - loss: 0.0139 - accuracy: 0.9954\n",
            "Epoch 16/30\n",
            "600/600 [==============================] - 1s 2ms/step - loss: 0.0099 - accuracy: 0.9969\n",
            "Epoch 17/30\n",
            "600/600 [==============================] - 1s 2ms/step - loss: 0.0087 - accuracy: 0.9973\n",
            "Epoch 18/30\n",
            "600/600 [==============================] - 1s 2ms/step - loss: 0.0073 - accuracy: 0.9979\n",
            "Epoch 19/30\n",
            "600/600 [==============================] - 1s 2ms/step - loss: 0.0048 - accuracy: 0.9989\n",
            "Epoch 20/30\n",
            "600/600 [==============================] - 1s 2ms/step - loss: 0.0035 - accuracy: 0.9994\n",
            "Epoch 21/30\n",
            "600/600 [==============================] - 1s 2ms/step - loss: 0.0025 - accuracy: 0.9996\n",
            "Epoch 22/30\n",
            "600/600 [==============================] - 2s 3ms/step - loss: 0.0020 - accuracy: 0.9998\n",
            "Epoch 23/30\n",
            "600/600 [==============================] - 1s 2ms/step - loss: 0.0013 - accuracy: 1.0000\n",
            "Epoch 24/30\n",
            "600/600 [==============================] - 1s 2ms/step - loss: 0.0012 - accuracy: 1.0000\n",
            "Epoch 25/30\n",
            "600/600 [==============================] - 1s 2ms/step - loss: 9.9489e-04 - accuracy: 1.0000\n",
            "Epoch 26/30\n",
            "600/600 [==============================] - 1s 2ms/step - loss: 8.6294e-04 - accuracy: 1.0000\n",
            "Epoch 27/30\n",
            "600/600 [==============================] - 1s 2ms/step - loss: 7.9468e-04 - accuracy: 1.0000\n",
            "Epoch 28/30\n",
            "600/600 [==============================] - 2s 3ms/step - loss: 7.3451e-04 - accuracy: 1.0000\n",
            "Epoch 29/30\n",
            "600/600 [==============================] - 1s 2ms/step - loss: 6.9257e-04 - accuracy: 1.0000\n",
            "Epoch 30/30\n",
            "600/600 [==============================] - 1s 2ms/step - loss: 6.5292e-04 - accuracy: 1.0000\n"
          ],
          "name": "stdout"
        }
      ]
    },
    {
      "cell_type": "code",
      "metadata": {
        "id": "lhksIj-UVS_h",
        "outputId": "5d745bd3-700d-4017-fcf7-938e8626da5f",
        "colab": {
          "base_uri": "https://localhost:8080/"
        }
      },
      "source": [
        "# Testing performance:\n",
        "test_loss, test_acc = model.evaluate(test_images,  test_labels, verbose=2)\n",
        "print('\\nTest accuracy:', test_acc)"
      ],
      "execution_count": 5,
      "outputs": [
        {
          "output_type": "stream",
          "text": [
            "313/313 - 0s - loss: 0.1170 - accuracy: 0.9774\n",
            "\n",
            "Test accuracy: 0.977400004863739\n"
          ],
          "name": "stdout"
        }
      ]
    },
    {
      "cell_type": "markdown",
      "metadata": {
        "id": "CbwpGWt8WFK1"
      },
      "source": [
        "# Task 2 - decomposing MNIST training images into PCA components"
      ]
    },
    {
      "cell_type": "code",
      "metadata": {
        "id": "qCjTJUwqWVSB",
        "outputId": "b132a6b2-d732-4772-e91a-42b73ac44178",
        "colab": {
          "base_uri": "https://localhost:8080/"
        }
      },
      "source": [
        "# Reshaping training images:\n",
        "print(\"train_images.shape: \",np.shape(train_images))\n",
        "X=np.reshape(train_images,(60000,784))\n",
        "print(\"X.shape:\",np.shape(X))\n",
        "\n",
        "# Translating data so mean=0:\n",
        "mu=np.mean(X,axis=0)\n",
        "x=X-mu\n",
        "\n",
        "# Creating covariance matrix (rho):\n",
        "rho=np.cov(x,rowvar=False) \n",
        "print(\"rho.shape:\",np.shape(rho))\n",
        "\n",
        "# Getting eigenvalues and vectors\n",
        "vals,vecs=linalg.eigh(rho)\n",
        "#vals is a 1-D array of the eigenvalues in ascending order, vecs is a columnwise array of the normalised\n",
        "# eigenvectors such that vecs[:,i] is the eigenvector correspondong to vals[i]\n",
        "\n",
        "print(\"vecs.shape:\",np.shape(vecs))\n",
        "print(\"vals.shape:\",np.shape(vals))\n",
        "\n",
        "# Reversing order of elements to get principal component first:\n",
        "vecs=np.flip(vecs)\n",
        "vals=np.flip(vals)"
      ],
      "execution_count": 6,
      "outputs": [
        {
          "output_type": "stream",
          "text": [
            "train_images.shape:  (60000, 28, 28)\n",
            "X.shape: (60000, 784)\n",
            "rho.shape: (784, 784)\n",
            "vecs.shape: (784, 784)\n",
            "vals.shape: (784,)\n"
          ],
          "name": "stdout"
        }
      ]
    },
    {
      "cell_type": "markdown",
      "metadata": {
        "id": "Qt1h3c9sYDcC"
      },
      "source": [
        "# Task 3 - making new datasets and testing network created in task 1 on them\n"
      ]
    },
    {
      "cell_type": "code",
      "metadata": {
        "id": "ex8YmLe3YADo"
      },
      "source": [
        "# Reshaping and translating test images for processing\n",
        "Y=np.reshape(test_images,(10000,784))\n",
        "y=Y-mu"
      ],
      "execution_count": 7,
      "outputs": []
    },
    {
      "cell_type": "code",
      "metadata": {
        "id": "RuZgxAHKpeja",
        "outputId": "f5ece2e1-6f80-4aff-e8cc-a8650f479db1",
        "colab": {
          "base_uri": "https://localhost:8080/",
          "height": 253
        }
      },
      "source": [
        "P=np.dot(y,vecs)\n",
        "\n",
        "# Defining a funciton that makes a new dataset using the MNIST test images and the N best PCA components:\n",
        "\n",
        "def make_new_data(N):    # N is the number of PCA components being included (from best to worst component)\n",
        "  new_dataset=(np.dot(P[:,0:N],vecs.T[0:N,:]))+mu\n",
        "  new_dataset=new_dataset.reshape(10000,28,28)\n",
        "  return new_dataset\n",
        "\n",
        "# Checking the function works:\n",
        "new_test_images_2 = make_new_data(50)\n",
        "print(new_test_images_2.shape)\n",
        "\n",
        "fig,ax=plt.subplots(1,2)\n",
        "ax[0].imshow(np.flipud(np.reshape(Y[7,:],[28,28])), origin='lower',cmap='binary',interpolation='nearest')\n",
        "ax[0].set_title('Original')\n",
        "ax[1].imshow(np.flipud(np.reshape(new_test_images_2[7,:],[28,28])), origin='lower',cmap='binary',interpolation='nearest')\n",
        "ax[1].set_title('50 PCs')"
      ],
      "execution_count": 8,
      "outputs": [
        {
          "output_type": "stream",
          "text": [
            "(10000, 28, 28)\n"
          ],
          "name": "stdout"
        },
        {
          "output_type": "execute_result",
          "data": {
            "text/plain": [
              "Text(0.5, 1.0, '50 PCs')"
            ]
          },
          "metadata": {
            "tags": []
          },
          "execution_count": 8
        },
        {
          "output_type": "display_data",
          "data": {
            "image/png": "[encoded data removed]",
            "text/plain": [
              "<Figure size 432x288 with 2 Axes>"
            ]
          },
          "metadata": {
            "tags": [],
            "needs_background": "light"
          }
        }
      ]
    },
    {
      "cell_type": "code",
      "metadata": {
        "id": "f07rJrzavEaI",
        "outputId": "af40796f-ff98-4de9-ce8d-5a9ab3ce4752",
        "colab": {
          "base_uri": "https://localhost:8080/",
          "height": 1000
        }
      },
      "source": [
        "# Setting up an array of N values:\n",
        "N_array=np.append(np.arange(1,101,4),np.arange(101,785,38))\n",
        "\n",
        "# Setting up a figure:\n",
        "fig,ax=plt.subplots()\n",
        "\n",
        "# For each N, create new testing datasets, test network from task1 and plot N vs test accuracy\n",
        "for N in N_array:\n",
        "  #make new images:\n",
        "  new_images=make_new_data(N)\n",
        "  #test:\n",
        "  test_loss, test_acc = model.evaluate(new_images,  test_labels, verbose=2)\n",
        "  #plot:\n",
        "  ax.plot(N,test_acc,'rx')\n",
        "  ax.set_xlabel(\"N\")\n",
        "  ax.set_ylabel(\"test accuracy\")\n",
        "  ax.set_title('N vs. test accuracy for model trained on MNIST training images and tested on test images constructed with N-best PCA components ')\n",
        "  ax.grid()\n"
      ],
      "execution_count": 9,
      "outputs": [
        {
          "output_type": "stream",
          "text": [
            "313/313 - 0s - loss: 4.3621 - accuracy: 0.1108\n",
            "313/313 - 0s - loss: 3.5584 - accuracy: 0.3284\n",
            "313/313 - 0s - loss: 1.6012 - accuracy: 0.6574\n",
            "313/313 - 0s - loss: 0.9114 - accuracy: 0.7907\n",
            "313/313 - 0s - loss: 0.5244 - accuracy: 0.8821\n",
            "313/313 - 0s - loss: 0.3643 - accuracy: 0.9209\n",
            "313/313 - 0s - loss: 0.2783 - accuracy: 0.9386\n",
            "313/313 - 0s - loss: 0.2259 - accuracy: 0.9517\n",
            "313/313 - 0s - loss: 0.1961 - accuracy: 0.9589\n",
            "313/313 - 0s - loss: 0.1766 - accuracy: 0.9624\n",
            "313/313 - 0s - loss: 0.1716 - accuracy: 0.9650\n",
            "313/313 - 0s - loss: 0.1651 - accuracy: 0.9671\n",
            "313/313 - 0s - loss: 0.1548 - accuracy: 0.9688\n",
            "313/313 - 0s - loss: 0.1477 - accuracy: 0.9702\n",
            "313/313 - 0s - loss: 0.1405 - accuracy: 0.9709\n",
            "313/313 - 0s - loss: 0.1369 - accuracy: 0.9717\n",
            "313/313 - 0s - loss: 0.1329 - accuracy: 0.9737\n",
            "313/313 - 0s - loss: 0.1318 - accuracy: 0.9733\n",
            "313/313 - 0s - loss: 0.1280 - accuracy: 0.9752\n",
            "313/313 - 0s - loss: 0.1272 - accuracy: 0.9754\n",
            "313/313 - 0s - loss: 0.1264 - accuracy: 0.9757\n",
            "313/313 - 0s - loss: 0.1268 - accuracy: 0.9759\n",
            "313/313 - 0s - loss: 0.1256 - accuracy: 0.9762\n",
            "313/313 - 0s - loss: 0.1237 - accuracy: 0.9762\n",
            "313/313 - 0s - loss: 0.1229 - accuracy: 0.9767\n",
            "313/313 - 0s - loss: 0.1229 - accuracy: 0.9770\n",
            "313/313 - 0s - loss: 0.1193 - accuracy: 0.9778\n",
            "313/313 - 0s - loss: 0.1182 - accuracy: 0.9771\n",
            "313/313 - 0s - loss: 0.1177 - accuracy: 0.9772\n",
            "313/313 - 0s - loss: 0.1176 - accuracy: 0.9771\n",
            "313/313 - 0s - loss: 0.1178 - accuracy: 0.9772\n",
            "313/313 - 0s - loss: 0.1180 - accuracy: 0.9769\n",
            "313/313 - 0s - loss: 0.1181 - accuracy: 0.9774\n",
            "313/313 - 0s - loss: 0.1177 - accuracy: 0.9775\n",
            "313/313 - 0s - loss: 0.1178 - accuracy: 0.9773\n",
            "313/313 - 0s - loss: 0.1175 - accuracy: 0.9774\n",
            "313/313 - 0s - loss: 0.1171 - accuracy: 0.9771\n",
            "313/313 - 0s - loss: 0.1171 - accuracy: 0.9773\n",
            "313/313 - 0s - loss: 0.1171 - accuracy: 0.9775\n",
            "313/313 - 0s - loss: 0.1171 - accuracy: 0.9774\n",
            "313/313 - 0s - loss: 0.1170 - accuracy: 0.9774\n",
            "313/313 - 0s - loss: 0.1170 - accuracy: 0.9774\n",
            "313/313 - 0s - loss: 0.1170 - accuracy: 0.9774\n"
          ],
          "name": "stdout"
        },
        {
          "output_type": "display_data",
          "data": {
            "image/png": "[encoded data removed]",
            "text/plain": [
              "<Figure size 432x288 with 1 Axes>"
            ]
          },
          "metadata": {
            "tags": [],
            "needs_background": "light"
          }
        }
      ]
    },
    {
      "cell_type": "markdown",
      "metadata": {
        "id": "5Jj6mIhY3_Ja"
      },
      "source": [
        "# Task 4 - retraining network on new dataset made by using 100 best PCA components to reconstruct MNIST training images "
      ]
    },
    {
      "cell_type": "code",
      "metadata": {
        "id": "egUV8v2b4B9X",
        "outputId": "fae30b6f-bcbb-406b-b490-244a892b8cb3",
        "colab": {
          "base_uri": "https://localhost:8080/"
        }
      },
      "source": [
        "# Making new dataset using 100 best PCA components to reconstruct MNIST training images:\n",
        "\n",
        "Q=np.dot(x,vecs)\n",
        "\n",
        "new_train_images_100PCs=(np.dot(Q[:,0:100],vecs.T[0:100,:]))+mu\n",
        "new_train_images_100PCs=new_train_images_100PCs.reshape(60000,28,28)\n",
        "\n",
        "# Checking shape:\n",
        "print(np.shape(new_train_images_100PCs))"
      ],
      "execution_count": 10,
      "outputs": [
        {
          "output_type": "stream",
          "text": [
            "(60000, 28, 28)\n"
          ],
          "name": "stdout"
        }
      ]
    },
    {
      "cell_type": "code",
      "metadata": {
        "id": "zp6Y4nPV68yM",
        "outputId": "74b23a61-2ab1-4d28-9a82-a05bb74b4d6a",
        "colab": {
          "base_uri": "https://localhost:8080/"
        }
      },
      "source": [
        "# Retraining network on new dataset:\n",
        "history=model.fit(new_train_images_100PCs, train_labels,batch_size=100, epochs=30)"
      ],
      "execution_count": 11,
      "outputs": [
        {
          "output_type": "stream",
          "text": [
            "Epoch 1/30\n",
            "600/600 [==============================] - 1s 2ms/step - loss: 0.0836 - accuracy: 0.9769\n",
            "Epoch 2/30\n",
            "600/600 [==============================] - 1s 2ms/step - loss: 0.0619 - accuracy: 0.9811\n",
            "Epoch 3/30\n",
            "600/600 [==============================] - 2s 3ms/step - loss: 0.0482 - accuracy: 0.9849\n",
            "Epoch 4/30\n",
            "600/600 [==============================] - 1s 2ms/step - loss: 0.0455 - accuracy: 0.9853\n",
            "Epoch 5/30\n",
            "600/600 [==============================] - 1s 2ms/step - loss: 0.0396 - accuracy: 0.9874\n",
            "Epoch 6/30\n",
            "600/600 [==============================] - 2s 3ms/step - loss: 0.0329 - accuracy: 0.9890\n",
            "Epoch 7/30\n",
            "600/600 [==============================] - 1s 2ms/step - loss: 0.0333 - accuracy: 0.9887\n",
            "Epoch 8/30\n",
            "600/600 [==============================] - 1s 2ms/step - loss: 0.0287 - accuracy: 0.9903\n",
            "Epoch 9/30\n",
            "600/600 [==============================] - 1s 2ms/step - loss: 0.0253 - accuracy: 0.9915\n",
            "Epoch 10/30\n",
            "600/600 [==============================] - 1s 2ms/step - loss: 0.0225 - accuracy: 0.9920\n",
            "Epoch 11/30\n",
            "600/600 [==============================] - 1s 2ms/step - loss: 0.0229 - accuracy: 0.9921\n",
            "Epoch 12/30\n",
            "600/600 [==============================] - 1s 2ms/step - loss: 0.0216 - accuracy: 0.9923\n",
            "Epoch 13/30\n",
            "600/600 [==============================] - 1s 2ms/step - loss: 0.0230 - accuracy: 0.9922\n",
            "Epoch 14/30\n",
            "600/600 [==============================] - 1s 2ms/step - loss: 0.0217 - accuracy: 0.9924\n",
            "Epoch 15/30\n",
            "600/600 [==============================] - 1s 2ms/step - loss: 0.0211 - accuracy: 0.9926\n",
            "Epoch 16/30\n",
            "600/600 [==============================] - 1s 2ms/step - loss: 0.0141 - accuracy: 0.9952\n",
            "Epoch 17/30\n",
            "600/600 [==============================] - 1s 2ms/step - loss: 0.0154 - accuracy: 0.9949\n",
            "Epoch 18/30\n",
            "600/600 [==============================] - 1s 2ms/step - loss: 0.0140 - accuracy: 0.9950\n",
            "Epoch 19/30\n",
            "600/600 [==============================] - 1s 2ms/step - loss: 0.0149 - accuracy: 0.9949\n",
            "Epoch 20/30\n",
            "600/600 [==============================] - 1s 2ms/step - loss: 0.0141 - accuracy: 0.9952\n",
            "Epoch 21/30\n",
            "600/600 [==============================] - 1s 2ms/step - loss: 0.0109 - accuracy: 0.9960\n",
            "Epoch 22/30\n",
            "600/600 [==============================] - 1s 2ms/step - loss: 0.0113 - accuracy: 0.9962\n",
            "Epoch 23/30\n",
            "600/600 [==============================] - 1s 2ms/step - loss: 0.0093 - accuracy: 0.9966\n",
            "Epoch 24/30\n",
            "600/600 [==============================] - 1s 2ms/step - loss: 0.0097 - accuracy: 0.9968\n",
            "Epoch 25/30\n",
            "600/600 [==============================] - 2s 3ms/step - loss: 0.0087 - accuracy: 0.9971\n",
            "Epoch 26/30\n",
            "600/600 [==============================] - 1s 2ms/step - loss: 0.0072 - accuracy: 0.9975\n",
            "Epoch 27/30\n",
            "600/600 [==============================] - 2s 3ms/step - loss: 0.0069 - accuracy: 0.9978\n",
            "Epoch 28/30\n",
            "600/600 [==============================] - 1s 2ms/step - loss: 0.0030 - accuracy: 0.9993\n",
            "Epoch 29/30\n",
            "600/600 [==============================] - 2s 3ms/step - loss: 0.0020 - accuracy: 0.9997\n",
            "Epoch 30/30\n",
            "600/600 [==============================] - 1s 2ms/step - loss: 0.0019 - accuracy: 0.9995\n"
          ],
          "name": "stdout"
        }
      ]
    },
    {
      "cell_type": "markdown",
      "metadata": {
        "id": "NAYNzG2Y8FzA"
      },
      "source": [
        "# Task 5 - repeating task 3 using network from task 4"
      ]
    },
    {
      "cell_type": "code",
      "metadata": {
        "id": "y43S0kz38hOa",
        "outputId": "db9f708e-fc0f-4c3f-d0fe-615841057270",
        "colab": {
          "base_uri": "https://localhost:8080/",
          "height": 1000
        }
      },
      "source": [
        "# Setting up an array of N values:\n",
        "N_array=np.append(np.arange(1,101,4),np.arange(101,785,38))\n",
        "\n",
        "# Setting up a figure:\n",
        "fig,ax=plt.subplots()\n",
        "\n",
        "# For each N, create new testing datasets, test network from task4 and plot N vs test accuracy\n",
        "for N in N_array:\n",
        "  #make new images:\n",
        "  new_images=make_new_data(N)\n",
        "  #test:\n",
        "  test_loss, test_acc = model.evaluate(new_images,  test_labels, verbose=2)\n",
        "  #plot:\n",
        "  ax.plot(N,test_acc,'rx')\n",
        "  ax.set_xlabel(\"N\")\n",
        "  ax.set_ylabel(\"test accuracy\")\n",
        "  ax.set_title('N vs. test accuracy for model trained on MNIST training images constructed with 100-best PCA components and tested on testing images constructed with N-best PCA components ')\n",
        "  ax.grid()"
      ],
      "execution_count": 12,
      "outputs": [
        {
          "output_type": "stream",
          "text": [
            "313/313 - 0s - loss: 4.3543 - accuracy: 0.1194\n",
            "313/313 - 0s - loss: 4.1234 - accuracy: 0.2919\n",
            "313/313 - 0s - loss: 1.9681 - accuracy: 0.6332\n",
            "313/313 - 0s - loss: 1.1483 - accuracy: 0.7816\n",
            "313/313 - 0s - loss: 0.6995 - accuracy: 0.8724\n",
            "313/313 - 0s - loss: 0.5099 - accuracy: 0.9028\n",
            "313/313 - 0s - loss: 0.4022 - accuracy: 0.9238\n",
            "313/313 - 0s - loss: 0.3156 - accuracy: 0.9413\n",
            "313/313 - 0s - loss: 0.2604 - accuracy: 0.9532\n",
            "313/313 - 0s - loss: 0.2243 - accuracy: 0.9609\n",
            "313/313 - 0s - loss: 0.2136 - accuracy: 0.9615\n",
            "313/313 - 0s - loss: 0.2067 - accuracy: 0.9652\n",
            "313/313 - 0s - loss: 0.1911 - accuracy: 0.9691\n",
            "313/313 - 0s - loss: 0.1825 - accuracy: 0.9705\n",
            "313/313 - 0s - loss: 0.1689 - accuracy: 0.9724\n",
            "313/313 - 0s - loss: 0.1650 - accuracy: 0.9718\n",
            "313/313 - 0s - loss: 0.1599 - accuracy: 0.9739\n",
            "313/313 - 0s - loss: 0.1555 - accuracy: 0.9749\n",
            "313/313 - 0s - loss: 0.1496 - accuracy: 0.9751\n",
            "313/313 - 0s - loss: 0.1491 - accuracy: 0.9750\n",
            "313/313 - 0s - loss: 0.1516 - accuracy: 0.9751\n",
            "313/313 - 0s - loss: 0.1541 - accuracy: 0.9756\n",
            "313/313 - 0s - loss: 0.1514 - accuracy: 0.9765\n",
            "313/313 - 0s - loss: 0.1509 - accuracy: 0.9760\n",
            "313/313 - 0s - loss: 0.1507 - accuracy: 0.9768\n",
            "313/313 - 0s - loss: 0.1513 - accuracy: 0.9763\n",
            "313/313 - 0s - loss: 0.1514 - accuracy: 0.9759\n",
            "313/313 - 0s - loss: 0.1526 - accuracy: 0.9756\n",
            "313/313 - 0s - loss: 0.1522 - accuracy: 0.9750\n",
            "313/313 - 0s - loss: 0.1513 - accuracy: 0.9745\n",
            "313/313 - 0s - loss: 0.1519 - accuracy: 0.9753\n",
            "313/313 - 0s - loss: 0.1521 - accuracy: 0.9753\n",
            "313/313 - 0s - loss: 0.1520 - accuracy: 0.9752\n",
            "313/313 - 0s - loss: 0.1526 - accuracy: 0.9750\n",
            "313/313 - 0s - loss: 0.1523 - accuracy: 0.9750\n",
            "313/313 - 0s - loss: 0.1526 - accuracy: 0.9754\n",
            "313/313 - 0s - loss: 0.1525 - accuracy: 0.9752\n",
            "313/313 - 0s - loss: 0.1523 - accuracy: 0.9755\n",
            "313/313 - 0s - loss: 0.1524 - accuracy: 0.9756\n",
            "313/313 - 0s - loss: 0.1523 - accuracy: 0.9754\n",
            "313/313 - 0s - loss: 0.1524 - accuracy: 0.9754\n",
            "313/313 - 0s - loss: 0.1524 - accuracy: 0.9754\n",
            "313/313 - 0s - loss: 0.1524 - accuracy: 0.9754\n"
          ],
          "name": "stdout"
        },
        {
          "output_type": "display_data",
          "data": {
            "image/png": "[encoded data removed]",
            "text/plain": [
              "<Figure size 432x288 with 1 Axes>"
            ]
          },
          "metadata": {
            "tags": [],
            "needs_background": "light"
          }
        }
      ]
    },
    {
      "cell_type": "markdown",
      "metadata": {
        "id": "PBug8E2BAJQC"
      },
      "source": [
        "# Task 6 - repeating steps 4 and 5 using a network trained with the best 20 components"
      ]
    },
    {
      "cell_type": "code",
      "metadata": {
        "id": "tCPqRACvujhE",
        "outputId": "c4cc2323-e4b4-4996-ecc7-1022d40b08b1",
        "colab": {
          "base_uri": "https://localhost:8080/"
        }
      },
      "source": [
        "# Making new dataset using 20 best PCA components to reconstruct MNIST training images:\n",
        "\n",
        "Q=np.dot(x,vecs)\n",
        "\n",
        "new_train_images_20PCs=(np.dot(Q[:,0:20],vecs.T[0:20,:]))+mu\n",
        "new_train_images_20PCs=new_train_images_20PCs.reshape(60000,28,28)\n",
        "\n",
        "# Checking shape:\n",
        "print(np.shape(new_train_images_20PCs))"
      ],
      "execution_count": 13,
      "outputs": [
        {
          "output_type": "stream",
          "text": [
            "(60000, 28, 28)\n"
          ],
          "name": "stdout"
        }
      ]
    },
    {
      "cell_type": "code",
      "metadata": {
        "id": "b2HEb3hOA5Fg",
        "outputId": "6bfc2ccf-af4d-4dd0-f14f-df7f894d2e33",
        "colab": {
          "base_uri": "https://localhost:8080/"
        }
      },
      "source": [
        "# Retraining network on new dataset:\n",
        "history=model.fit(new_train_images_20PCs, train_labels,batch_size=100, epochs=30)"
      ],
      "execution_count": 14,
      "outputs": [
        {
          "output_type": "stream",
          "text": [
            "Epoch 1/30\n",
            "600/600 [==============================] - 2s 3ms/step - loss: 0.2720 - accuracy: 0.9323\n",
            "Epoch 2/30\n",
            "600/600 [==============================] - 2s 3ms/step - loss: 0.1724 - accuracy: 0.9502\n",
            "Epoch 3/30\n",
            "600/600 [==============================] - 2s 3ms/step - loss: 0.1509 - accuracy: 0.9554\n",
            "Epoch 4/30\n",
            "600/600 [==============================] - 2s 3ms/step - loss: 0.1378 - accuracy: 0.9595\n",
            "Epoch 5/30\n",
            "600/600 [==============================] - 1s 2ms/step - loss: 0.1294 - accuracy: 0.9613\n",
            "Epoch 6/30\n",
            "600/600 [==============================] - 2s 3ms/step - loss: 0.1244 - accuracy: 0.9626\n",
            "Epoch 7/30\n",
            "600/600 [==============================] - 1s 2ms/step - loss: 0.1195 - accuracy: 0.9637\n",
            "Epoch 8/30\n",
            "600/600 [==============================] - 1s 2ms/step - loss: 0.1154 - accuracy: 0.9647\n",
            "Epoch 9/30\n",
            "600/600 [==============================] - 1s 2ms/step - loss: 0.1146 - accuracy: 0.9660\n",
            "Epoch 10/30\n",
            "600/600 [==============================] - 1s 2ms/step - loss: 0.1122 - accuracy: 0.9660\n",
            "Epoch 11/30\n",
            "600/600 [==============================] - 1s 2ms/step - loss: 0.1082 - accuracy: 0.9675\n",
            "Epoch 12/30\n",
            "600/600 [==============================] - 1s 2ms/step - loss: 0.1094 - accuracy: 0.9661\n",
            "Epoch 13/30\n",
            "600/600 [==============================] - 2s 3ms/step - loss: 0.1064 - accuracy: 0.9675\n",
            "Epoch 14/30\n",
            "600/600 [==============================] - 2s 3ms/step - loss: 0.1052 - accuracy: 0.9677\n",
            "Epoch 15/30\n",
            "600/600 [==============================] - 1s 2ms/step - loss: 0.1030 - accuracy: 0.9678\n",
            "Epoch 16/30\n",
            "600/600 [==============================] - 2s 3ms/step - loss: 0.1026 - accuracy: 0.9686\n",
            "Epoch 17/30\n",
            "600/600 [==============================] - 1s 2ms/step - loss: 0.1026 - accuracy: 0.9690\n",
            "Epoch 18/30\n",
            "600/600 [==============================] - 1s 2ms/step - loss: 0.0983 - accuracy: 0.9704\n",
            "Epoch 19/30\n",
            "600/600 [==============================] - 1s 2ms/step - loss: 0.0982 - accuracy: 0.9693\n",
            "Epoch 20/30\n",
            "600/600 [==============================] - 1s 2ms/step - loss: 0.0986 - accuracy: 0.9689\n",
            "Epoch 21/30\n",
            "600/600 [==============================] - 2s 3ms/step - loss: 0.0971 - accuracy: 0.9704\n",
            "Epoch 22/30\n",
            "600/600 [==============================] - 1s 2ms/step - loss: 0.0972 - accuracy: 0.9701\n",
            "Epoch 23/30\n",
            "600/600 [==============================] - 2s 3ms/step - loss: 0.0982 - accuracy: 0.9701\n",
            "Epoch 24/30\n",
            "600/600 [==============================] - 1s 2ms/step - loss: 0.0975 - accuracy: 0.9701\n",
            "Epoch 25/30\n",
            "600/600 [==============================] - 2s 3ms/step - loss: 0.0954 - accuracy: 0.9707\n",
            "Epoch 26/30\n",
            "600/600 [==============================] - 2s 3ms/step - loss: 0.0955 - accuracy: 0.9703\n",
            "Epoch 27/30\n",
            "600/600 [==============================] - 2s 3ms/step - loss: 0.0930 - accuracy: 0.9713\n",
            "Epoch 28/30\n",
            "600/600 [==============================] - 1s 2ms/step - loss: 0.0947 - accuracy: 0.9711\n",
            "Epoch 29/30\n",
            "600/600 [==============================] - 1s 2ms/step - loss: 0.0929 - accuracy: 0.9714\n",
            "Epoch 30/30\n",
            "600/600 [==============================] - 1s 2ms/step - loss: 0.0932 - accuracy: 0.9708\n"
          ],
          "name": "stdout"
        }
      ]
    },
    {
      "cell_type": "code",
      "metadata": {
        "id": "gXRrqEybBIGP",
        "outputId": "e41c9dc0-3df7-4960-cfe9-45fd4ecbaf96",
        "colab": {
          "base_uri": "https://localhost:8080/",
          "height": 1000
        }
      },
      "source": [
        "# Setting up an array of N values:\n",
        "N_array=np.append(np.arange(1,101,4),np.arange(101,785,38))\n",
        "\n",
        "# Setting up a figure:\n",
        "fig,ax=plt.subplots()\n",
        "\n",
        "# For each N, create new testing datasets, test network from task4 and plot N vs test accuracy\n",
        "for N in N_array:\n",
        "  #make new images:\n",
        "  new_images=make_new_data(N)\n",
        "  #test:\n",
        "  test_loss, test_acc = model.evaluate(new_images,  test_labels, verbose=2)\n",
        "  #plot:\n",
        "  ax.plot(N,test_acc,'rx')\n",
        "  ax.set_xlabel(\"N\")\n",
        "  ax.set_ylabel(\"test accuracy\")\n",
        "  ax.set_title('N vs. test accuracy for model trained on MNIST training images constructed with 20-best PCA components and tested on testing images constructed with N-best PCA components ')\n",
        "  ax.set_ylim(0,1)\n",
        "  ax.grid()"
      ],
      "execution_count": 15,
      "outputs": [
        {
          "output_type": "stream",
          "text": [
            "313/313 - 0s - loss: 4.5422 - accuracy: 0.0975\n",
            "313/313 - 0s - loss: 3.4255 - accuracy: 0.2622\n",
            "313/313 - 0s - loss: 1.9074 - accuracy: 0.5370\n",
            "313/313 - 0s - loss: 0.6314 - accuracy: 0.8111\n",
            "313/313 - 0s - loss: 0.2971 - accuracy: 0.9173\n",
            "313/313 - 0s - loss: 0.1497 - accuracy: 0.9599\n",
            "313/313 - 0s - loss: 0.1587 - accuracy: 0.9605\n",
            "313/313 - 0s - loss: 0.1664 - accuracy: 0.9597\n",
            "313/313 - 0s - loss: 0.1691 - accuracy: 0.9576\n",
            "313/313 - 0s - loss: 0.1793 - accuracy: 0.9592\n",
            "313/313 - 0s - loss: 0.1832 - accuracy: 0.9582\n",
            "313/313 - 0s - loss: 0.1855 - accuracy: 0.9584\n",
            "313/313 - 0s - loss: 0.1867 - accuracy: 0.9600\n",
            "313/313 - 0s - loss: 0.1825 - accuracy: 0.9607\n",
            "313/313 - 0s - loss: 0.1826 - accuracy: 0.9598\n",
            "313/313 - 0s - loss: 0.1799 - accuracy: 0.9600\n",
            "313/313 - 0s - loss: 0.1820 - accuracy: 0.9589\n",
            "313/313 - 0s - loss: 0.1818 - accuracy: 0.9595\n",
            "313/313 - 0s - loss: 0.1839 - accuracy: 0.9580\n",
            "313/313 - 0s - loss: 0.1847 - accuracy: 0.9575\n",
            "313/313 - 0s - loss: 0.1850 - accuracy: 0.9577\n",
            "313/313 - 0s - loss: 0.1876 - accuracy: 0.9573\n",
            "313/313 - 0s - loss: 0.1873 - accuracy: 0.9575\n",
            "313/313 - 0s - loss: 0.1897 - accuracy: 0.9575\n",
            "313/313 - 0s - loss: 0.1887 - accuracy: 0.9571\n",
            "313/313 - 0s - loss: 0.1889 - accuracy: 0.9573\n",
            "313/313 - 0s - loss: 0.1891 - accuracy: 0.9574\n",
            "313/313 - 0s - loss: 0.1899 - accuracy: 0.9577\n",
            "313/313 - 0s - loss: 0.1897 - accuracy: 0.9575\n",
            "313/313 - 0s - loss: 0.1900 - accuracy: 0.9576\n",
            "313/313 - 0s - loss: 0.1898 - accuracy: 0.9575\n",
            "313/313 - 0s - loss: 0.1898 - accuracy: 0.9573\n",
            "313/313 - 0s - loss: 0.1895 - accuracy: 0.9571\n",
            "313/313 - 0s - loss: 0.1887 - accuracy: 0.9578\n",
            "313/313 - 0s - loss: 0.1885 - accuracy: 0.9578\n",
            "313/313 - 0s - loss: 0.1881 - accuracy: 0.9578\n",
            "313/313 - 0s - loss: 0.1885 - accuracy: 0.9575\n",
            "313/313 - 0s - loss: 0.1880 - accuracy: 0.9577\n",
            "313/313 - 0s - loss: 0.1879 - accuracy: 0.9577\n",
            "313/313 - 0s - loss: 0.1878 - accuracy: 0.9575\n",
            "313/313 - 0s - loss: 0.1878 - accuracy: 0.9576\n",
            "313/313 - 0s - loss: 0.1878 - accuracy: 0.9576\n",
            "313/313 - 0s - loss: 0.1878 - accuracy: 0.9576\n"
          ],
          "name": "stdout"
        },
        {
          "output_type": "display_data",
          "data": {
            "image/png": "[encoded data removed]",
            "text/plain": [
              "<Figure size 432x288 with 1 Axes>"
            ]
          },
          "metadata": {
            "tags": [],
            "needs_background": "light"
          }
        }
      ]
    }
  ]
}